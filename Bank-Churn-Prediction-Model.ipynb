{
 "cells": [
  {
   "cell_type": "code",
   "execution_count": 37,
   "id": "601a6c21",
   "metadata": {
    "ExecuteTime": {
     "end_time": "2021-12-08T07:05:52.142345Z",
     "start_time": "2021-12-08T07:05:52.124341Z"
    }
   },
   "outputs": [],
   "source": [
    "import pandas as pd\n",
    "import numpy as np\n",
    "import matplotlib.pyplot as plt\n",
    "import seaborn as sns\n",
    "\n",
    "from collections import Counter\n",
    "\n",
    "from sklearn.model_selection import GridSearchCV, cross_val_score, StratifiedKFold\n",
    "\n",
    "\n",
    "from sklearn.metrics import roc_curve \n",
    "from sklearn.metrics import accuracy_score\n",
    "from sklearn.model_selection import GridSearchCV\n",
    "from sklearn.model_selection import RandomizedSearchCV\n",
    "from sklearn.metrics import roc_auc_score, confusion_matrix, classification_report, f1_score\n",
    "from sklearn.metrics import plot_confusion_matrix\n",
    "\n",
    "\n",
    "from sklearn.linear_model import LogisticRegression\n",
    "from sklearn.ensemble import RandomForestClassifier, AdaBoostClassifier, VotingClassifier\n",
    "from sklearn.tree import DecisionTreeClassifier\n",
    "from sklearn.neighbors import KNeighborsClassifier \n",
    "from sklearn.svm import SVC\n",
    "from xgboost import XGBClassifier\n",
    "\n",
    "from warnings import filterwarnings\n",
    "filterwarnings('ignore')"
   ]
  },
  {
   "cell_type": "code",
   "execution_count": 38,
   "id": "357f07e9",
   "metadata": {
    "ExecuteTime": {
     "end_time": "2021-12-08T07:05:52.173342Z",
     "start_time": "2021-12-08T07:05:52.144343Z"
    }
   },
   "outputs": [],
   "source": [
    "df = pd.read_csv('C:/Users/Avalon/Documents/Digital Skola/Notebook/Dataset_9 - Banking.csv')"
   ]
  },
  {
   "cell_type": "code",
   "execution_count": 39,
   "id": "b225d2b3",
   "metadata": {
    "ExecuteTime": {
     "end_time": "2021-12-08T07:05:52.189380Z",
     "start_time": "2021-12-08T07:05:52.175342Z"
    }
   },
   "outputs": [],
   "source": [
    "def show_cm(model, aktual, prediksi, name, color):\n",
    "    plt.figure(figsize=(10,5))\n",
    "    plot_confusion_matrix(model, aktual, prediksi, cmap=color)\n",
    "    plt.title(name)\n",
    "    plt.grid(False)\n",
    "    plt.show()"
   ]
  },
  {
   "cell_type": "code",
   "execution_count": 40,
   "id": "8be9f7e7",
   "metadata": {
    "ExecuteTime": {
     "end_time": "2021-12-08T07:05:52.205342Z",
     "start_time": "2021-12-08T07:05:52.192349Z"
    }
   },
   "outputs": [],
   "source": [
    "df = df.drop([\n",
    "    'RowNumber',\n",
    "    'CustomerId',\n",
    "    'Surname'\n",
    "], axis=1)"
   ]
  },
  {
   "cell_type": "code",
   "execution_count": 41,
   "id": "74a5b272",
   "metadata": {
    "ExecuteTime": {
     "end_time": "2021-12-08T07:05:52.237382Z",
     "start_time": "2021-12-08T07:05:52.207348Z"
    }
   },
   "outputs": [
    {
     "data": {
      "text/html": [
       "<div>\n",
       "<style scoped>\n",
       "    .dataframe tbody tr th:only-of-type {\n",
       "        vertical-align: middle;\n",
       "    }\n",
       "\n",
       "    .dataframe tbody tr th {\n",
       "        vertical-align: top;\n",
       "    }\n",
       "\n",
       "    .dataframe thead th {\n",
       "        text-align: right;\n",
       "    }\n",
       "</style>\n",
       "<table border=\"1\" class=\"dataframe\">\n",
       "  <thead>\n",
       "    <tr style=\"text-align: right;\">\n",
       "      <th></th>\n",
       "      <th>CreditScore</th>\n",
       "      <th>Age</th>\n",
       "      <th>Tenure</th>\n",
       "      <th>Balance</th>\n",
       "      <th>NumOfProducts</th>\n",
       "      <th>HasCrCard</th>\n",
       "      <th>IsActiveMember</th>\n",
       "      <th>EstimatedSalary</th>\n",
       "      <th>Exited</th>\n",
       "      <th>Geography_France</th>\n",
       "      <th>Geography_Germany</th>\n",
       "      <th>Geography_Spain</th>\n",
       "      <th>Gender_Female</th>\n",
       "      <th>Gender_Male</th>\n",
       "    </tr>\n",
       "  </thead>\n",
       "  <tbody>\n",
       "    <tr>\n",
       "      <th>0</th>\n",
       "      <td>619</td>\n",
       "      <td>42</td>\n",
       "      <td>2</td>\n",
       "      <td>0.00</td>\n",
       "      <td>1</td>\n",
       "      <td>1</td>\n",
       "      <td>1</td>\n",
       "      <td>101348.88</td>\n",
       "      <td>1</td>\n",
       "      <td>1</td>\n",
       "      <td>0</td>\n",
       "      <td>0</td>\n",
       "      <td>1</td>\n",
       "      <td>0</td>\n",
       "    </tr>\n",
       "    <tr>\n",
       "      <th>1</th>\n",
       "      <td>608</td>\n",
       "      <td>41</td>\n",
       "      <td>1</td>\n",
       "      <td>83807.86</td>\n",
       "      <td>1</td>\n",
       "      <td>0</td>\n",
       "      <td>1</td>\n",
       "      <td>112542.58</td>\n",
       "      <td>0</td>\n",
       "      <td>0</td>\n",
       "      <td>0</td>\n",
       "      <td>1</td>\n",
       "      <td>1</td>\n",
       "      <td>0</td>\n",
       "    </tr>\n",
       "    <tr>\n",
       "      <th>2</th>\n",
       "      <td>502</td>\n",
       "      <td>42</td>\n",
       "      <td>8</td>\n",
       "      <td>159660.80</td>\n",
       "      <td>3</td>\n",
       "      <td>1</td>\n",
       "      <td>0</td>\n",
       "      <td>113931.57</td>\n",
       "      <td>1</td>\n",
       "      <td>1</td>\n",
       "      <td>0</td>\n",
       "      <td>0</td>\n",
       "      <td>1</td>\n",
       "      <td>0</td>\n",
       "    </tr>\n",
       "    <tr>\n",
       "      <th>3</th>\n",
       "      <td>699</td>\n",
       "      <td>39</td>\n",
       "      <td>1</td>\n",
       "      <td>0.00</td>\n",
       "      <td>2</td>\n",
       "      <td>0</td>\n",
       "      <td>0</td>\n",
       "      <td>93826.63</td>\n",
       "      <td>0</td>\n",
       "      <td>1</td>\n",
       "      <td>0</td>\n",
       "      <td>0</td>\n",
       "      <td>1</td>\n",
       "      <td>0</td>\n",
       "    </tr>\n",
       "    <tr>\n",
       "      <th>4</th>\n",
       "      <td>850</td>\n",
       "      <td>43</td>\n",
       "      <td>2</td>\n",
       "      <td>125510.82</td>\n",
       "      <td>1</td>\n",
       "      <td>1</td>\n",
       "      <td>1</td>\n",
       "      <td>79084.10</td>\n",
       "      <td>0</td>\n",
       "      <td>0</td>\n",
       "      <td>0</td>\n",
       "      <td>1</td>\n",
       "      <td>1</td>\n",
       "      <td>0</td>\n",
       "    </tr>\n",
       "  </tbody>\n",
       "</table>\n",
       "</div>"
      ],
      "text/plain": [
       "   CreditScore  Age  Tenure    Balance  NumOfProducts  HasCrCard  \\\n",
       "0          619   42       2       0.00              1          1   \n",
       "1          608   41       1   83807.86              1          0   \n",
       "2          502   42       8  159660.80              3          1   \n",
       "3          699   39       1       0.00              2          0   \n",
       "4          850   43       2  125510.82              1          1   \n",
       "\n",
       "   IsActiveMember  EstimatedSalary  Exited  Geography_France  \\\n",
       "0               1        101348.88       1                 1   \n",
       "1               1        112542.58       0                 0   \n",
       "2               0        113931.57       1                 1   \n",
       "3               0         93826.63       0                 1   \n",
       "4               1         79084.10       0                 0   \n",
       "\n",
       "   Geography_Germany  Geography_Spain  Gender_Female  Gender_Male  \n",
       "0                  0                0              1            0  \n",
       "1                  0                1              1            0  \n",
       "2                  0                0              1            0  \n",
       "3                  0                0              1            0  \n",
       "4                  0                1              1            0  "
      ]
     },
     "execution_count": 41,
     "metadata": {},
     "output_type": "execute_result"
    }
   ],
   "source": [
    "df = pd.get_dummies(df)\n",
    "\n",
    "df.head()"
   ]
  },
  {
   "cell_type": "code",
   "execution_count": 42,
   "id": "a13f54ae",
   "metadata": {
    "ExecuteTime": {
     "end_time": "2021-12-08T07:05:52.253339Z",
     "start_time": "2021-12-08T07:05:52.239343Z"
    }
   },
   "outputs": [],
   "source": [
    "y = df[\"Exited\"]\n",
    "\n",
    "X = df.drop(labels = [\"Exited\"],axis = 1)"
   ]
  },
  {
   "cell_type": "code",
   "execution_count": 43,
   "id": "e65eec48",
   "metadata": {
    "ExecuteTime": {
     "end_time": "2021-12-08T07:05:52.269381Z",
     "start_time": "2021-12-08T07:05:52.254342Z"
    }
   },
   "outputs": [],
   "source": [
    "# Splitting data into testing and training data\n",
    "from sklearn.model_selection import train_test_split\n",
    "\n",
    "X_train, X_test, y_train, y_test = train_test_split(X, y, test_size=0.3, random_state=1992)"
   ]
  },
  {
   "cell_type": "code",
   "execution_count": 44,
   "id": "55847b9c",
   "metadata": {
    "ExecuteTime": {
     "end_time": "2021-12-08T07:05:52.300346Z",
     "start_time": "2021-12-08T07:05:52.271341Z"
    }
   },
   "outputs": [],
   "source": [
    "from imblearn.over_sampling import SMOTE\n",
    "smote = SMOTE(random_state=42, k_neighbors=5, sampling_strategy=1)\n",
    "X_train_smo, y_train_smo = smote.fit_resample(X_train, y_train)"
   ]
  },
  {
   "cell_type": "code",
   "execution_count": 45,
   "id": "01696a39",
   "metadata": {
    "ExecuteTime": {
     "end_time": "2021-12-08T07:05:52.315354Z",
     "start_time": "2021-12-08T07:05:52.303343Z"
    }
   },
   "outputs": [
    {
     "data": {
      "text/plain": [
       "0    5573\n",
       "1    1427\n",
       "Name: Exited, dtype: int64"
      ]
     },
     "execution_count": 45,
     "metadata": {},
     "output_type": "execute_result"
    }
   ],
   "source": [
    "y_train.value_counts()"
   ]
  },
  {
   "cell_type": "code",
   "execution_count": 46,
   "id": "f32e5047",
   "metadata": {
    "ExecuteTime": {
     "end_time": "2021-12-08T07:05:52.331380Z",
     "start_time": "2021-12-08T07:05:52.320344Z"
    }
   },
   "outputs": [
    {
     "data": {
      "text/plain": [
       "1    5573\n",
       "0    5573\n",
       "Name: Exited, dtype: int64"
      ]
     },
     "execution_count": 46,
     "metadata": {},
     "output_type": "execute_result"
    }
   ],
   "source": [
    "y_train_smo.value_counts()"
   ]
  },
  {
   "cell_type": "code",
   "execution_count": 47,
   "id": "74a9c42f",
   "metadata": {
    "ExecuteTime": {
     "end_time": "2021-12-08T07:05:52.363340Z",
     "start_time": "2021-12-08T07:05:52.335345Z"
    }
   },
   "outputs": [],
   "source": [
    "from sklearn.preprocessing import StandardScaler\n",
    "\n",
    "sc = StandardScaler()\n",
    "X_train_smo = sc.fit_transform(X_train_smo)\n",
    "X_test = sc.transform(X_test)"
   ]
  },
  {
   "cell_type": "code",
   "execution_count": 48,
   "id": "386c8d28",
   "metadata": {
    "ExecuteTime": {
     "end_time": "2021-12-08T07:06:10.733603Z",
     "start_time": "2021-12-08T07:05:52.366342Z"
    }
   },
   "outputs": [
    {
     "data": {
      "text/plain": [
       "array([0.63408959, 0.87580497, 0.93339063, 0.93503073, 0.92888118])"
      ]
     },
     "execution_count": 48,
     "metadata": {},
     "output_type": "execute_result"
    }
   ],
   "source": [
    "# Cross validate model with Kfold stratified cross validation\n",
    "kfold = StratifiedKFold(n_splits=5)\n",
    "\n",
    "cross_val_score(LogisticRegression(), X_train_smo, y = y_train_smo, scoring = \"f1\", cv = kfold, n_jobs=4)\n",
    "cross_val_score(RandomForestClassifier(), X_train_smo, y = y_train_smo, scoring = \"f1\", cv = kfold, n_jobs=4)\n",
    "cross_val_score(KNeighborsClassifier(), X_train_smo, y = y_train_smo, scoring = \"f1\", cv = kfold, n_jobs=4)\n",
    "cross_val_score(SVC(), X_train_smo, y = y_train_smo, scoring = \"f1\", cv = kfold, n_jobs=4)\n",
    "cross_val_score(XGBClassifier(), X_train_smo, y = y_train_smo, scoring = \"f1\", cv = kfold, n_jobs=4)"
   ]
  },
  {
   "cell_type": "code",
   "execution_count": 49,
   "id": "e4a94714",
   "metadata": {
    "ExecuteTime": {
     "end_time": "2021-12-08T07:06:11.495374Z",
     "start_time": "2021-12-08T07:06:10.736606Z"
    }
   },
   "outputs": [
    {
     "name": "stdout",
     "output_type": "stream",
     "text": [
      "Fitting 5 folds for each of 14 candidates, totalling 70 fits\n"
     ]
    },
    {
     "data": {
      "text/plain": [
       "GridSearchCV(cv=StratifiedKFold(n_splits=5, random_state=None, shuffle=False),\n",
       "             estimator=LogisticRegression(), n_jobs=4,\n",
       "             param_grid={'C': array([1.e-03, 1.e-02, 1.e-01, 1.e+00, 1.e+01, 1.e+02, 1.e+03]),\n",
       "                         'penalty': ['l1', 'l2']},\n",
       "             scoring='f1', verbose=1)"
      ]
     },
     "execution_count": 49,
     "metadata": {},
     "output_type": "execute_result"
    }
   ],
   "source": [
    "# LogisticRegression\n",
    "\n",
    "LR = LogisticRegression()\n",
    "\n",
    "param_grid = {\n",
    "                  \"C\":np.logspace(-3,3,7), \n",
    "                  \"penalty\":[\"l1\",\"l2\"]\n",
    "}\n",
    "\n",
    "gs_LR = GridSearchCV(LR, param_grid = param_grid, cv=kfold, scoring=\"f1\", n_jobs= 4, verbose = 1)\n",
    "\n",
    "gs_LR.fit(X_train_smo,y_train_smo)"
   ]
  },
  {
   "cell_type": "code",
   "execution_count": 50,
   "id": "7d37b7a8",
   "metadata": {
    "ExecuteTime": {
     "end_time": "2021-12-08T07:06:11.511364Z",
     "start_time": "2021-12-08T07:06:11.497362Z"
    }
   },
   "outputs": [],
   "source": [
    "y_pred = gs_LR.predict(X_test)"
   ]
  },
  {
   "cell_type": "code",
   "execution_count": 51,
   "id": "6757c637",
   "metadata": {
    "ExecuteTime": {
     "end_time": "2021-12-08T07:06:11.527366Z",
     "start_time": "2021-12-08T07:06:11.514364Z"
    }
   },
   "outputs": [
    {
     "data": {
      "text/plain": [
       "dtype('int64')"
      ]
     },
     "execution_count": 51,
     "metadata": {},
     "output_type": "execute_result"
    }
   ],
   "source": [
    "y_test.dtype"
   ]
  },
  {
   "cell_type": "code",
   "execution_count": 52,
   "id": "6403cb39",
   "metadata": {
    "ExecuteTime": {
     "end_time": "2021-12-08T07:06:11.543362Z",
     "start_time": "2021-12-08T07:06:11.530365Z"
    }
   },
   "outputs": [
    {
     "data": {
      "text/plain": [
       "dtype('int64')"
      ]
     },
     "execution_count": 52,
     "metadata": {},
     "output_type": "execute_result"
    }
   ],
   "source": [
    "y_pred.dtype"
   ]
  },
  {
   "cell_type": "code",
   "execution_count": 53,
   "id": "43d7369e",
   "metadata": {
    "ExecuteTime": {
     "end_time": "2021-12-08T07:06:11.575360Z",
     "start_time": "2021-12-08T07:06:11.546366Z"
    }
   },
   "outputs": [
    {
     "name": "stdout",
     "output_type": "stream",
     "text": [
      "\n",
      "Classification Report:\n",
      "\n",
      "              precision    recall  f1-score   support\n",
      "\n",
      "           0       0.86      0.88      0.87      2390\n",
      "           1       0.50      0.44      0.47       610\n",
      "\n",
      "    accuracy                           0.80      3000\n",
      "   macro avg       0.68      0.66      0.67      3000\n",
      "weighted avg       0.79      0.80      0.79      3000\n",
      "\n",
      "\n",
      "Confusion Matrix:\n",
      "[[2114  276]\n",
      " [ 339  271]]\n"
     ]
    }
   ],
   "source": [
    "print(\"\\nClassification Report:\\n\")\n",
    "print(classification_report(y_test,y_pred))\n",
    "\n",
    "print(\"\\nConfusion Matrix:\")\n",
    "print(confusion_matrix(y_test,y_pred))"
   ]
  },
  {
   "cell_type": "code",
   "execution_count": 54,
   "id": "83c94ce2",
   "metadata": {
    "ExecuteTime": {
     "end_time": "2021-12-08T07:06:11.809363Z",
     "start_time": "2021-12-08T07:06:11.578364Z"
    }
   },
   "outputs": [
    {
     "data": {
      "text/plain": [
       "<Figure size 720x360 with 0 Axes>"
      ]
     },
     "metadata": {},
     "output_type": "display_data"
    },
    {
     "data": {
      "image/png": "[encoded data removed]",
      "text/plain": [
       "<Figure size 432x288 with 2 Axes>"
      ]
     },
     "metadata": {
      "needs_background": "light"
     },
     "output_type": "display_data"
    }
   ],
   "source": [
    "show_cm(gs_LR, X_test, y_test, 'Logistic Regression', 'PuBu')"
   ]
  },
  {
   "cell_type": "code",
   "execution_count": 55,
   "id": "34852838",
   "metadata": {
    "ExecuteTime": {
     "end_time": "2021-12-08T07:08:37.715101Z",
     "start_time": "2021-12-08T07:06:11.812367Z"
    }
   },
   "outputs": [
    {
     "name": "stdout",
     "output_type": "stream",
     "text": [
      "Fitting 5 folds for each of 81 candidates, totalling 405 fits\n"
     ]
    },
    {
     "data": {
      "text/plain": [
       "GridSearchCV(cv=StratifiedKFold(n_splits=5, random_state=None, shuffle=False),\n",
       "             estimator=RandomForestClassifier(), n_jobs=4,\n",
       "             param_grid={'bootstrap': [False], 'criterion': ['gini'],\n",
       "                         'max_depth': [4, 5, 7], 'max_features': [1, 3, 10],\n",
       "                         'min_samples_leaf': [1, 3, 10],\n",
       "                         'n_estimators': [80, 100, 120]},\n",
       "             scoring='f1', verbose=1)"
      ]
     },
     "execution_count": 55,
     "metadata": {},
     "output_type": "execute_result"
    }
   ],
   "source": [
    "# RandomForest \n",
    "\n",
    "RFC = RandomForestClassifier()\n",
    "\n",
    "\n",
    "param_grid = {\n",
    "              \"max_depth\": [4,5,7],\n",
    "              \"max_features\": [1, 3, 10],\n",
    "              \"min_samples_leaf\": [1, 3, 10],\n",
    "              \"bootstrap\": [False],\n",
    "              \"n_estimators\" :[80,100,120],\n",
    "              \"criterion\": [\"gini\"]\n",
    "}\n",
    "\n",
    "\n",
    "gs_RFC = GridSearchCV(RFC,param_grid = param_grid, cv=kfold, scoring=\"f1\", n_jobs= 4, verbose = 1)\n",
    "\n",
    "gs_RFC.fit(X_train_smo,y_train_smo)"
   ]
  },
  {
   "cell_type": "code",
   "execution_count": 56,
   "id": "01fb9886",
   "metadata": {
    "ExecuteTime": {
     "end_time": "2021-12-08T07:08:37.825059Z",
     "start_time": "2021-12-08T07:08:37.720071Z"
    }
   },
   "outputs": [],
   "source": [
    "y_pred = gs_RFC.predict(X_test)"
   ]
  },
  {
   "cell_type": "code",
   "execution_count": 57,
   "id": "81894fac",
   "metadata": {
    "ExecuteTime": {
     "end_time": "2021-12-08T07:08:37.857062Z",
     "start_time": "2021-12-08T07:08:37.829071Z"
    }
   },
   "outputs": [
    {
     "name": "stdout",
     "output_type": "stream",
     "text": [
      "\n",
      "Classification Report:\n",
      "\n",
      "              precision    recall  f1-score   support\n",
      "\n",
      "           0       0.90      0.89      0.89      2390\n",
      "           1       0.58      0.60      0.59       610\n",
      "\n",
      "    accuracy                           0.83      3000\n",
      "   macro avg       0.74      0.74      0.74      3000\n",
      "weighted avg       0.83      0.83      0.83      3000\n",
      "\n",
      "\n",
      "Confusion Matrix:\n",
      "[[2122  268]\n",
      " [ 243  367]]\n"
     ]
    }
   ],
   "source": [
    "print(\"\\nClassification Report:\\n\")\n",
    "print(classification_report(y_test,y_pred))\n",
    "\n",
    "print(\"\\nConfusion Matrix:\")\n",
    "print(confusion_matrix(y_test,y_pred))"
   ]
  },
  {
   "cell_type": "code",
   "execution_count": 76,
   "id": "9ab1aaf5",
   "metadata": {
    "ExecuteTime": {
     "end_time": "2021-12-08T07:42:14.713432Z",
     "start_time": "2021-12-08T07:42:14.509431Z"
    }
   },
   "outputs": [
    {
     "data": {
      "text/plain": [
       "<Figure size 720x360 with 0 Axes>"
      ]
     },
     "metadata": {},
     "output_type": "display_data"
    },
    {
     "data": {
      "image/png": "[encoded data removed]",
      "text/plain": [
       "<Figure size 432x288 with 2 Axes>"
      ]
     },
     "metadata": {
      "needs_background": "light"
     },
     "output_type": "display_data"
    }
   ],
   "source": [
    "show_cm(gs_RFC, X_test, y_test, 'Random Forest Classifier', plt.cm.Purples)"
   ]
  },
  {
   "cell_type": "code",
   "execution_count": 59,
   "id": "2acfc4de",
   "metadata": {
    "ExecuteTime": {
     "end_time": "2021-12-08T07:08:53.835368Z",
     "start_time": "2021-12-08T07:08:38.286064Z"
    }
   },
   "outputs": [
    {
     "data": {
      "text/plain": [
       "GridSearchCV(cv=StratifiedKFold(n_splits=5, random_state=None, shuffle=False),\n",
       "             estimator=KNeighborsClassifier(), n_jobs=4,\n",
       "             param_grid={'n_neighbors': array([ 2,  3,  4,  5,  6,  7,  8,  9, 10, 11, 12, 13, 14, 15, 16, 17, 18,\n",
       "       19])})"
      ]
     },
     "execution_count": 59,
     "metadata": {},
     "output_type": "execute_result"
    }
   ],
   "source": [
    "# KNeighbors\n",
    "\n",
    "KNN = KNeighborsClassifier()\n",
    "\n",
    "k_grid={\n",
    "        'n_neighbors':np.arange(2,20)\n",
    "}\n",
    "\n",
    "gs_KNN=GridSearchCV(KNN, k_grid, cv=kfold, refit=True, n_jobs=4)\n",
    "\n",
    "gs_KNN.fit(X_train_smo,y_train_smo)"
   ]
  },
  {
   "cell_type": "code",
   "execution_count": 60,
   "id": "5cee8561",
   "metadata": {
    "ExecuteTime": {
     "end_time": "2021-12-08T07:08:54.215300Z",
     "start_time": "2021-12-08T07:08:53.837371Z"
    }
   },
   "outputs": [],
   "source": [
    "y_pred = gs_KNN.predict(X_test)"
   ]
  },
  {
   "cell_type": "code",
   "execution_count": 61,
   "id": "73019b3d",
   "metadata": {
    "ExecuteTime": {
     "end_time": "2021-12-08T07:08:54.246192Z",
     "start_time": "2021-12-08T07:08:54.217190Z"
    }
   },
   "outputs": [
    {
     "name": "stdout",
     "output_type": "stream",
     "text": [
      "\n",
      "Classification Report:\n",
      "\n",
      "              precision    recall  f1-score   support\n",
      "\n",
      "           0       0.86      0.93      0.89      2390\n",
      "           1       0.60      0.41      0.48       610\n",
      "\n",
      "    accuracy                           0.82      3000\n",
      "   macro avg       0.73      0.67      0.69      3000\n",
      "weighted avg       0.81      0.82      0.81      3000\n",
      "\n",
      "\n",
      "Confusion Matrix:\n",
      "[[2222  168]\n",
      " [ 361  249]]\n"
     ]
    }
   ],
   "source": [
    "print(\"\\nClassification Report:\\n\")\n",
    "print(classification_report(y_test,y_pred))\n",
    "\n",
    "print(\"\\nConfusion Matrix:\")\n",
    "print(confusion_matrix(y_test,y_pred))"
   ]
  },
  {
   "cell_type": "code",
   "execution_count": 62,
   "id": "9b240eb6",
   "metadata": {
    "ExecuteTime": {
     "end_time": "2021-12-08T07:08:54.754429Z",
     "start_time": "2021-12-08T07:08:54.247192Z"
    }
   },
   "outputs": [
    {
     "data": {
      "text/plain": [
       "<Figure size 720x360 with 0 Axes>"
      ]
     },
     "metadata": {},
     "output_type": "display_data"
    },
    {
     "data": {
      "image/png": "[encoded data removed]",
      "text/plain": [
       "<Figure size 432x288 with 2 Axes>"
      ]
     },
     "metadata": {
      "needs_background": "light"
     },
     "output_type": "display_data"
    }
   ],
   "source": [
    "show_cm(gs_KNN, X_test, y_test, 'K-Nearest Neighbors', plt.cm.Greens)"
   ]
  },
  {
   "cell_type": "code",
   "execution_count": 63,
   "id": "60fa1aae",
   "metadata": {
    "ExecuteTime": {
     "end_time": "2021-12-08T07:10:25.934595Z",
     "start_time": "2021-12-08T07:08:54.756376Z"
    }
   },
   "outputs": [
    {
     "data": {
      "text/plain": [
       "GridSearchCV(cv=StratifiedKFold(n_splits=5, random_state=None, shuffle=False),\n",
       "             estimator=SVC(), n_jobs=4,\n",
       "             param_grid={'C': [0.1, 1, 10], 'gamma': [0.01, 0.1, 1],\n",
       "                         'kernel': ['rbf']})"
      ]
     },
     "execution_count": 63,
     "metadata": {},
     "output_type": "execute_result"
    }
   ],
   "source": [
    "# SVC\n",
    "SVM = SVC()\n",
    "\n",
    "\n",
    "param_grid = {\n",
    "                'C': [0.1, 1, 10], \n",
    "                'gamma': [0.01, 0.1, 1],\n",
    "                'kernel': ['rbf']\n",
    "}\n",
    "\n",
    "gs_SVM = GridSearchCV(SVM, param_grid, cv=kfold, n_jobs=4)\n",
    "\n",
    "gs_SVM.fit(X_train_smo,y_train_smo)"
   ]
  },
  {
   "cell_type": "code",
   "execution_count": 64,
   "id": "dbf78ff5",
   "metadata": {
    "ExecuteTime": {
     "end_time": "2021-12-08T07:10:27.206494Z",
     "start_time": "2021-12-08T07:10:25.947596Z"
    }
   },
   "outputs": [],
   "source": [
    "y_pred = gs_SVM.predict(X_test)"
   ]
  },
  {
   "cell_type": "code",
   "execution_count": 65,
   "id": "5cacb1da",
   "metadata": {
    "ExecuteTime": {
     "end_time": "2021-12-08T07:10:27.238210Z",
     "start_time": "2021-12-08T07:10:27.208183Z"
    }
   },
   "outputs": [
    {
     "name": "stdout",
     "output_type": "stream",
     "text": [
      "\n",
      "Classification Report:\n",
      "\n",
      "              precision    recall  f1-score   support\n",
      "\n",
      "           0       0.89      0.93      0.91      2390\n",
      "           1       0.66      0.53      0.59       610\n",
      "\n",
      "    accuracy                           0.85      3000\n",
      "   macro avg       0.78      0.73      0.75      3000\n",
      "weighted avg       0.84      0.85      0.84      3000\n",
      "\n",
      "\n",
      "Confusion Matrix:\n",
      "[[2226  164]\n",
      " [ 286  324]]\n"
     ]
    }
   ],
   "source": [
    "print(\"\\nClassification Report:\\n\")\n",
    "print(classification_report(y_test,y_pred))\n",
    "\n",
    "print(\"\\nConfusion Matrix:\")\n",
    "print(confusion_matrix(y_test,y_pred))"
   ]
  },
  {
   "cell_type": "code",
   "execution_count": 66,
   "id": "155c08db",
   "metadata": {
    "ExecuteTime": {
     "end_time": "2021-12-08T07:10:29.587865Z",
     "start_time": "2021-12-08T07:10:27.242187Z"
    }
   },
   "outputs": [
    {
     "data": {
      "text/plain": [
       "<Figure size 720x360 with 0 Axes>"
      ]
     },
     "metadata": {},
     "output_type": "display_data"
    },
    {
     "data": {
      "image/png": "[encoded data removed]",
      "text/plain": [
       "<Figure size 432x288 with 2 Axes>"
      ]
     },
     "metadata": {
      "needs_background": "light"
     },
     "output_type": "display_data"
    }
   ],
   "source": [
    "show_cm(gs_SVM, X_test, y_test, 'Support Vector Classifier', plt.cm.Reds)"
   ]
  },
  {
   "cell_type": "code",
   "execution_count": 67,
   "id": "537796e3",
   "metadata": {
    "ExecuteTime": {
     "end_time": "2021-12-08T07:35:08.273284Z",
     "start_time": "2021-12-08T07:10:29.591828Z"
    }
   },
   "outputs": [
    {
     "name": "stdout",
     "output_type": "stream",
     "text": [
      "[14:35:06] WARNING: C:/Users/Administrator/workspace/xgboost-win64_release_1.5.1/src/learner.cc:1115: Starting in XGBoost 1.3.0, the default evaluation metric used with the objective 'binary:logistic' was changed from 'error' to 'logloss'. Explicitly set eval_metric if you'd like to restore the old behavior.\n"
     ]
    },
    {
     "data": {
      "text/plain": [
       "GridSearchCV(cv=StratifiedKFold(n_splits=5, random_state=None, shuffle=False),\n",
       "             estimator=XGBClassifier(base_score=None, booster=None,\n",
       "                                     colsample_bylevel=None,\n",
       "                                     colsample_bynode=None,\n",
       "                                     colsample_bytree=None,\n",
       "                                     enable_categorical=False, gamma=None,\n",
       "                                     gpu_id=None, importance_type=None,\n",
       "                                     interaction_constraints=None,\n",
       "                                     learning_rate=None, max_delta_step=None,\n",
       "                                     max_depth=None, mi...\n",
       "                                     n_estimators=100, n_jobs=None,\n",
       "                                     num_parallel_tree=None, predictor=None,\n",
       "                                     random_state=None, reg_alpha=None,\n",
       "                                     reg_lambda=None, scale_pos_weight=None,\n",
       "                                     subsample=None, tree_method=None,\n",
       "                                     validate_parameters=None, verbosity=None),\n",
       "             n_jobs=4,\n",
       "             param_grid={'gamma': [0.01, 0.001, 0.001],\n",
       "                         'learning_rate': [0.05, 0.1, 0.2],\n",
       "                         'max_depth': [5, 6, 7, 8],\n",
       "                         'min_child_weight': [1, 5, 8, 10],\n",
       "                         'n_estimators': [50, 80, 100, 120]})"
      ]
     },
     "execution_count": 67,
     "metadata": {},
     "output_type": "execute_result"
    }
   ],
   "source": [
    "# XGB\n",
    "\n",
    "XGB = XGBClassifier()\n",
    "\n",
    "param_grid = {\n",
    "                'n_estimators': [50,80,100,120], \n",
    "                'gamma': [0.01,0.001,0.001], \n",
    "                'max_depth': [5,6,7,8],\n",
    "                'min_child_weight': [1,5,8,10], \n",
    "                'learning_rate': [0.05,0.1,0.2]\n",
    "}\n",
    "\n",
    "gs_XGB = GridSearchCV(estimator = XGB, param_grid =  param_grid,  cv=kfold, n_jobs=4)\n",
    "\n",
    "gs_XGB.fit(X_train_smo,y_train_smo)"
   ]
  },
  {
   "cell_type": "code",
   "execution_count": 68,
   "id": "ede46719",
   "metadata": {
    "ExecuteTime": {
     "end_time": "2021-12-08T07:35:08.305280Z",
     "start_time": "2021-12-08T07:35:08.278282Z"
    }
   },
   "outputs": [],
   "source": [
    "y_pred = gs_XGB.predict(X_test)"
   ]
  },
  {
   "cell_type": "code",
   "execution_count": 69,
   "id": "3e2f94fd",
   "metadata": {
    "ExecuteTime": {
     "end_time": "2021-12-08T07:35:08.417286Z",
     "start_time": "2021-12-08T07:35:08.320281Z"
    }
   },
   "outputs": [
    {
     "name": "stdout",
     "output_type": "stream",
     "text": [
      "\n",
      "Classification Report:\n",
      "\n",
      "              precision    recall  f1-score   support\n",
      "\n",
      "           0       0.89      0.91      0.90      2390\n",
      "           1       0.62      0.57      0.59       610\n",
      "\n",
      "    accuracy                           0.84      3000\n",
      "   macro avg       0.76      0.74      0.75      3000\n",
      "weighted avg       0.84      0.84      0.84      3000\n",
      "\n",
      "\n",
      "Confusion Matrix:\n",
      "[[2182  208]\n",
      " [ 265  345]]\n"
     ]
    }
   ],
   "source": [
    "print(\"\\nClassification Report:\\n\")\n",
    "print(classification_report(y_test,y_pred))\n",
    "\n",
    "print(\"\\nConfusion Matrix:\")\n",
    "print(confusion_matrix(y_test,y_pred))"
   ]
  },
  {
   "cell_type": "code",
   "execution_count": 70,
   "id": "0238ae6b",
   "metadata": {
    "ExecuteTime": {
     "end_time": "2021-12-08T07:35:08.902284Z",
     "start_time": "2021-12-08T07:35:08.425284Z"
    }
   },
   "outputs": [
    {
     "data": {
      "text/plain": [
       "<Figure size 720x360 with 0 Axes>"
      ]
     },
     "metadata": {},
     "output_type": "display_data"
    },
    {
     "data": {
      "image/png": "[encoded data removed]",
      "text/plain": [
       "<Figure size 432x288 with 2 Axes>"
      ]
     },
     "metadata": {
      "needs_background": "light"
     },
     "output_type": "display_data"
    }
   ],
   "source": [
    "show_cm(gs_XGB, X_test, y_test, 'XGBoost', plt.cm.Greys)"
   ]
  }
 ],
 "metadata": {
  "kernelspec": {
   "display_name": "Python 3 (ipykernel)",
   "language": "python",
   "name": "python3"
  },
  "language_info": {
   "codemirror_mode": {
    "name": "ipython",
    "version": 3
   },
   "file_extension": ".py",
   "mimetype": "text/x-python",
   "name": "python",
   "nbconvert_exporter": "python",
   "pygments_lexer": "ipython3",
   "version": "3.9.2"
  },
  "toc": {
   "base_numbering": 1,
   "nav_menu": {},
   "number_sections": true,
   "sideBar": true,
   "skip_h1_title": false,
   "title_cell": "Table of Contents",
   "title_sidebar": "Contents",
   "toc_cell": false,
   "toc_position": {},
   "toc_section_display": true,
   "toc_window_display": false
  },
  "varInspector": {
   "cols": {
    "lenName": 16,
    "lenType": 16,
    "lenVar": 40
   },
   "kernels_config": {
    "python": {
     "delete_cmd_postfix": "",
     "delete_cmd_prefix": "del ",
     "library": "var_list.py",
     "varRefreshCmd": "print(var_dic_list())"
    },
    "r": {
     "delete_cmd_postfix": ") ",
     "delete_cmd_prefix": "rm(",
     "library": "var_list.r",
     "varRefreshCmd": "cat(var_dic_list()) "
    }
   },
   "types_to_exclude": [
    "module",
    "function",
    "builtin_function_or_method",
    "instance",
    "_Feature"
   ],
   "window_display": false
  }
 },
 "nbformat": 4,
 "nbformat_minor": 5
}
